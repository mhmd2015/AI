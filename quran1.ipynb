{
 "cells": [
  {
   "cell_type": "code",
   "execution_count": null,
   "metadata": {},
   "outputs": [],
   "source": [
    "import os\n",
    "import pandas as pd\n",
    "qdata = pd.read_csv(\"./Arabic-Original.csv\")\n",
    "\n",
    "print(qdata)"
   ]
  },
  {
   "cell_type": "code",
   "execution_count": null,
   "metadata": {},
   "outputs": [],
   "source": []
  },
  {
   "cell_type": "code",
   "execution_count": 42,
   "metadata": {},
   "outputs": [
    {
     "name": "stdout",
     "output_type": "stream",
     "text": [
      "      sora  aya                                      text\n",
      "0        1    1    بِسْمِ اللَّهِ الرَّحْمَٰنِ الرَّحِيمِ\n",
      "1        1    2     الْحَمْدُ لِلَّهِ رَبِّ الْعَالَمِينَ\n",
      "2        1    3                   الرَّحْمَٰنِ الرَّحِيمِ\n",
      "3        1    4                   مَالِكِ يَوْمِ الدِّينِ\n",
      "4        1    5  إِيَّاكَ نَعْبُدُ وَإِيَّاكَ نَسْتَعِينُ\n",
      "...    ...  ...                                       ...\n",
      "6231   114    2                           مَلِكِ النَّاسِ\n",
      "6232   114    3                          إِلَٰهِ النَّاسِ\n",
      "6233   114    4       مِنْ شَرِّ الْوَسْوَاسِ الْخَنَّاسِ\n",
      "6234   114    5   الَّذِي يُوَسْوِسُ فِي صُدُورِ النَّاسِ\n",
      "6235   114    6                مِنَ الْجِنَّةِ وَالنَّاسِ\n",
      "\n",
      "[6236 rows x 3 columns]\n"
     ]
    }
   ],
   "source": [
    "# Load CSV (using python)\n",
    "import csv\n",
    "import pandas\n",
    "filename = './Arabic-Original.csv'\n",
    "df = pandas.read_csv(filename)\n",
    "print(df)\n"
   ]
  },
  {
   "cell_type": "code",
   "execution_count": 50,
   "metadata": {},
   "outputs": [],
   "source": [
    "#extract word with counter\n",
    "from collections import Counter\n",
    "\n",
    "wordscounts = Counter(\" \".join(df[\"text\"]).split(\" \")).items()\n",
    "with open(\"./wordscounts.txt\",\"w\",encoding='utf-8') as file:\n",
    "    for thestring in sorted(wordscounts):\n",
    "        #print(thestring.encode('utf-8'), file=file)\n",
    "        print(thestring[0]+\":\"+thestring[1].__str__(), file=file)"
   ]
  },
  {
   "cell_type": "code",
   "execution_count": null,
   "metadata": {},
   "outputs": [],
   "source": [
    "wordsCount = df.text.apply(lambda x: pd.value_counts(x.split(\" \"))).sum()\n",
    "print(df)"
   ]
  },
  {
   "cell_type": "code",
   "execution_count": 28,
   "metadata": {},
   "outputs": [],
   "source": [
    "# extract the words from the data frame\n",
    "unique = set(df['text'].str.split(' ').sum())\n",
    "\n",
    "words = list(sorted(unique))\n",
    "\n"
   ]
  },
  {
   "cell_type": "code",
   "execution_count": 36,
   "metadata": {},
   "outputs": [],
   "source": [
    "# save the list of words to file\n",
    "with open(\"./words.txt\",\"w\",encoding='utf-8') as file:\n",
    "    for thestring in words:\n",
    "        #print(thestring.encode('utf-8'), file=file)\n",
    "        print(thestring, file=file)\n",
    "       "
   ]
  },
  {
   "cell_type": "code",
   "execution_count": null,
   "metadata": {},
   "outputs": [],
   "source": [
    "# Split list into new series\n",
    "words = df['text'].str.split()\n",
    "\n",
    "# Get amount of unique words\n",
    "df['counter'] = words.apply(set).apply(len)\n",
    "\n",
    "# Get amount of words\n",
    "df['words'] = words.apply(len)\n",
    "\n",
    "print(df)"
   ]
  },
  {
   "cell_type": "code",
   "execution_count": null,
   "metadata": {},
   "outputs": [],
   "source": [
    "\"\"\"\n",
    "file = open(\"./words.txt\", \"w\")\n",
    " \n",
    "#convert variable to string\n",
    "str = repr(words)\n",
    "file.write(str )\n",
    " \n",
    "#close file\n",
    "file.close()\n",
    "\"\"\""
   ]
  },
  {
   "cell_type": "code",
   "execution_count": null,
   "metadata": {},
   "outputs": [],
   "source": [
    "from nltk.corpus import stopwords\n",
    "ignored_words = list(stopwords.words('english'))\n",
    "print(ignored_words)\n"
   ]
  },
  {
   "cell_type": "code",
   "execution_count": null,
   "metadata": {},
   "outputs": [],
   "source": [
    "from sklearn.feature_extraction.text import CountVectorizer\n",
    "import pandas as pd\n",
    "count_vec = CountVectorizer(\n",
    "    ngram_range = (1,1)   #1\n",
    "    ,stop_words = ignored_words\n",
    ")"
   ]
  },
  {
   "cell_type": "code",
   "execution_count": null,
   "metadata": {},
   "outputs": [],
   "source": [
    "#Count words in file\n",
    "file = open('file.txt', 'r')\n",
    "read_data = file.read()\n",
    "per_word = read_data.split()\n",
    "\n",
    "print('Total Words:', len(per_word))"
   ]
  },
  {
   "cell_type": "code",
   "execution_count": null,
   "metadata": {},
   "outputs": [],
   "source": [
    "#count specific words in a file.\n",
    "\n",
    "# asking for user input\n",
    "search_word_count = input('Enter the word: ')\n",
    "\n",
    "# opening text file in read only mode\n",
    "file = open(\"file.txt\", \"r\")\n",
    "\n",
    "# reading data of the file\n",
    "read_data = file.read()\n",
    "\n",
    "# converting data in lower case and the counting the occurrence \n",
    "word_count = read_data.lower().count(search_word_count)\n",
    "\n",
    "# printing word and it's count\n",
    "print(f\"The word '{search_word_count}' appeared {word_count} times.\")"
   ]
  }
 ],
 "metadata": {
  "kernelspec": {
   "display_name": "Python 3",
   "language": "python",
   "name": "python3"
  },
  "language_info": {
   "codemirror_mode": {
    "name": "ipython",
    "version": 3
   },
   "file_extension": ".py",
   "mimetype": "text/x-python",
   "name": "python",
   "nbconvert_exporter": "python",
   "pygments_lexer": "ipython3",
   "version": "3.7.9"
  },
  "orig_nbformat": 4,
  "vscode": {
   "interpreter": {
    "hash": "e0b5ec1a63da800c45f65492b9b95c19a49e1f2511961a151666c5815b1a5c83"
   }
  }
 },
 "nbformat": 4,
 "nbformat_minor": 2
}
